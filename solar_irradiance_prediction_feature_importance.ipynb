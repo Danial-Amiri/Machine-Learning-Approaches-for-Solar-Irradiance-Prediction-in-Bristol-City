{
  "nbformat": 4,
  "nbformat_minor": 0,
  "metadata": {
    "colab": {
      "provenance": []
    },
    "kernelspec": {
      "name": "python3",
      "display_name": "Python 3"
    },
    "language_info": {
      "name": "python"
    }
  },
  "cells": [
    {
      "cell_type": "code",
      "execution_count": null,
      "metadata": {
        "id": "RDMMJAb-oFDC"
      },
      "outputs": [],
      "source": [
        "import pandas as pd\n",
        "import numpy as np\n",
        "from sklearn.preprocessing import MinMaxScaler\n",
        "from sklearn.model_selection import train_test_split\n",
        "import matplotlib.pyplot as plt"
      ]
    },
    {
      "cell_type": "code",
      "source": [
        "all_data = pd.read_csv(\"all_merged_data.csv\")"
      ],
      "metadata": {
        "id": "3yWEETN4o6-E"
      },
      "execution_count": null,
      "outputs": []
    },
    {
      "cell_type": "code",
      "source": [
        "all_data['time'] = pd.to_datetime(all_data['time'])\n",
        "all_data['year'] = all_data['time'].dt.year\n",
        "\n",
        "all_data.head()"
      ],
      "metadata": {
        "colab": {
          "base_uri": "https://localhost:8080/",
          "height": 206
        },
        "id": "I61cqPPoo67b",
        "outputId": "42e44691-ac52-4be8-e62d-da16f53b0771"
      },
      "execution_count": null,
      "outputs": [
        {
          "output_type": "execute_result",
          "data": {
            "text/plain": [
              "                 time        local_time    t2m  prectotland  precsnoland  \\\n",
              "0 2015-01-01 00:00:00  2015-01-01 00:00  7.742        0.023          0.0   \n",
              "1 2015-01-01 01:00:00  2015-01-01 01:00  7.768        0.029          0.0   \n",
              "2 2015-01-01 02:00:00  2015-01-01 02:00  7.974        0.035          0.0   \n",
              "3 2015-01-01 03:00:00  2015-01-01 03:00  8.486        0.052          0.0   \n",
              "4 2015-01-01 04:00:00  2015-01-01 04:00  8.867        0.050          0.0   \n",
              "\n",
              "   snomas   rhoa  swgdn  swtdn  cldtot  wind_speed  quarter  month month_name  \\\n",
              "0   0.017  1.259    0.0    0.0   0.994       8.747        1      1    January   \n",
              "1   0.016  1.259    0.0    0.0   0.973       8.576        1      1    January   \n",
              "2   0.015  1.257    0.0    0.0   0.936       9.216        1      1    January   \n",
              "3   0.013  1.255    0.0    0.0   0.928       9.385        1      1    January   \n",
              "4   0.012  1.253    0.0    0.0   0.988       9.575        1      1    January   \n",
              "\n",
              "   day  hour  year  \n",
              "0    1     0  2015  \n",
              "1    1     1  2015  \n",
              "2    1     2  2015  \n",
              "3    1     3  2015  \n",
              "4    1     4  2015  "
            ],
            "text/html": [
              "\n",
              "  <div id=\"df-66f22363-d0c0-40a6-acaf-ebd2e596b432\" class=\"colab-df-container\">\n",
              "    <div>\n",
              "<style scoped>\n",
              "    .dataframe tbody tr th:only-of-type {\n",
              "        vertical-align: middle;\n",
              "    }\n",
              "\n",
              "    .dataframe tbody tr th {\n",
              "        vertical-align: top;\n",
              "    }\n",
              "\n",
              "    .dataframe thead th {\n",
              "        text-align: right;\n",
              "    }\n",
              "</style>\n",
              "<table border=\"1\" class=\"dataframe\">\n",
              "  <thead>\n",
              "    <tr style=\"text-align: right;\">\n",
              "      <th></th>\n",
              "      <th>time</th>\n",
              "      <th>local_time</th>\n",
              "      <th>t2m</th>\n",
              "      <th>prectotland</th>\n",
              "      <th>precsnoland</th>\n",
              "      <th>snomas</th>\n",
              "      <th>rhoa</th>\n",
              "      <th>swgdn</th>\n",
              "      <th>swtdn</th>\n",
              "      <th>cldtot</th>\n",
              "      <th>wind_speed</th>\n",
              "      <th>quarter</th>\n",
              "      <th>month</th>\n",
              "      <th>month_name</th>\n",
              "      <th>day</th>\n",
              "      <th>hour</th>\n",
              "      <th>year</th>\n",
              "    </tr>\n",
              "  </thead>\n",
              "  <tbody>\n",
              "    <tr>\n",
              "      <th>0</th>\n",
              "      <td>2015-01-01 00:00:00</td>\n",
              "      <td>2015-01-01 00:00</td>\n",
              "      <td>7.742</td>\n",
              "      <td>0.023</td>\n",
              "      <td>0.0</td>\n",
              "      <td>0.017</td>\n",
              "      <td>1.259</td>\n",
              "      <td>0.0</td>\n",
              "      <td>0.0</td>\n",
              "      <td>0.994</td>\n",
              "      <td>8.747</td>\n",
              "      <td>1</td>\n",
              "      <td>1</td>\n",
              "      <td>January</td>\n",
              "      <td>1</td>\n",
              "      <td>0</td>\n",
              "      <td>2015</td>\n",
              "    </tr>\n",
              "    <tr>\n",
              "      <th>1</th>\n",
              "      <td>2015-01-01 01:00:00</td>\n",
              "      <td>2015-01-01 01:00</td>\n",
              "      <td>7.768</td>\n",
              "      <td>0.029</td>\n",
              "      <td>0.0</td>\n",
              "      <td>0.016</td>\n",
              "      <td>1.259</td>\n",
              "      <td>0.0</td>\n",
              "      <td>0.0</td>\n",
              "      <td>0.973</td>\n",
              "      <td>8.576</td>\n",
              "      <td>1</td>\n",
              "      <td>1</td>\n",
              "      <td>January</td>\n",
              "      <td>1</td>\n",
              "      <td>1</td>\n",
              "      <td>2015</td>\n",
              "    </tr>\n",
              "    <tr>\n",
              "      <th>2</th>\n",
              "      <td>2015-01-01 02:00:00</td>\n",
              "      <td>2015-01-01 02:00</td>\n",
              "      <td>7.974</td>\n",
              "      <td>0.035</td>\n",
              "      <td>0.0</td>\n",
              "      <td>0.015</td>\n",
              "      <td>1.257</td>\n",
              "      <td>0.0</td>\n",
              "      <td>0.0</td>\n",
              "      <td>0.936</td>\n",
              "      <td>9.216</td>\n",
              "      <td>1</td>\n",
              "      <td>1</td>\n",
              "      <td>January</td>\n",
              "      <td>1</td>\n",
              "      <td>2</td>\n",
              "      <td>2015</td>\n",
              "    </tr>\n",
              "    <tr>\n",
              "      <th>3</th>\n",
              "      <td>2015-01-01 03:00:00</td>\n",
              "      <td>2015-01-01 03:00</td>\n",
              "      <td>8.486</td>\n",
              "      <td>0.052</td>\n",
              "      <td>0.0</td>\n",
              "      <td>0.013</td>\n",
              "      <td>1.255</td>\n",
              "      <td>0.0</td>\n",
              "      <td>0.0</td>\n",
              "      <td>0.928</td>\n",
              "      <td>9.385</td>\n",
              "      <td>1</td>\n",
              "      <td>1</td>\n",
              "      <td>January</td>\n",
              "      <td>1</td>\n",
              "      <td>3</td>\n",
              "      <td>2015</td>\n",
              "    </tr>\n",
              "    <tr>\n",
              "      <th>4</th>\n",
              "      <td>2015-01-01 04:00:00</td>\n",
              "      <td>2015-01-01 04:00</td>\n",
              "      <td>8.867</td>\n",
              "      <td>0.050</td>\n",
              "      <td>0.0</td>\n",
              "      <td>0.012</td>\n",
              "      <td>1.253</td>\n",
              "      <td>0.0</td>\n",
              "      <td>0.0</td>\n",
              "      <td>0.988</td>\n",
              "      <td>9.575</td>\n",
              "      <td>1</td>\n",
              "      <td>1</td>\n",
              "      <td>January</td>\n",
              "      <td>1</td>\n",
              "      <td>4</td>\n",
              "      <td>2015</td>\n",
              "    </tr>\n",
              "  </tbody>\n",
              "</table>\n",
              "</div>\n",
              "    <div class=\"colab-df-buttons\">\n",
              "\n",
              "  <div class=\"colab-df-container\">\n",
              "    <button class=\"colab-df-convert\" onclick=\"convertToInteractive('df-66f22363-d0c0-40a6-acaf-ebd2e596b432')\"\n",
              "            title=\"Convert this dataframe to an interactive table.\"\n",
              "            style=\"display:none;\">\n",
              "\n",
              "  <svg xmlns=\"http://www.w3.org/2000/svg\" height=\"24px\" viewBox=\"0 -960 960 960\">\n",
              "    <path d=\"M120-120v-720h720v720H120Zm60-500h600v-160H180v160Zm220 220h160v-160H400v160Zm0 220h160v-160H400v160ZM180-400h160v-160H180v160Zm440 0h160v-160H620v160ZM180-180h160v-160H180v160Zm440 0h160v-160H620v160Z\"/>\n",
              "  </svg>\n",
              "    </button>\n",
              "\n",
              "  <style>\n",
              "    .colab-df-container {\n",
              "      display:flex;\n",
              "      gap: 12px;\n",
              "    }\n",
              "\n",
              "    .colab-df-convert {\n",
              "      background-color: #E8F0FE;\n",
              "      border: none;\n",
              "      border-radius: 50%;\n",
              "      cursor: pointer;\n",
              "      display: none;\n",
              "      fill: #1967D2;\n",
              "      height: 32px;\n",
              "      padding: 0 0 0 0;\n",
              "      width: 32px;\n",
              "    }\n",
              "\n",
              "    .colab-df-convert:hover {\n",
              "      background-color: #E2EBFA;\n",
              "      box-shadow: 0px 1px 2px rgba(60, 64, 67, 0.3), 0px 1px 3px 1px rgba(60, 64, 67, 0.15);\n",
              "      fill: #174EA6;\n",
              "    }\n",
              "\n",
              "    .colab-df-buttons div {\n",
              "      margin-bottom: 4px;\n",
              "    }\n",
              "\n",
              "    [theme=dark] .colab-df-convert {\n",
              "      background-color: #3B4455;\n",
              "      fill: #D2E3FC;\n",
              "    }\n",
              "\n",
              "    [theme=dark] .colab-df-convert:hover {\n",
              "      background-color: #434B5C;\n",
              "      box-shadow: 0px 1px 3px 1px rgba(0, 0, 0, 0.15);\n",
              "      filter: drop-shadow(0px 1px 2px rgba(0, 0, 0, 0.3));\n",
              "      fill: #FFFFFF;\n",
              "    }\n",
              "  </style>\n",
              "\n",
              "    <script>\n",
              "      const buttonEl =\n",
              "        document.querySelector('#df-66f22363-d0c0-40a6-acaf-ebd2e596b432 button.colab-df-convert');\n",
              "      buttonEl.style.display =\n",
              "        google.colab.kernel.accessAllowed ? 'block' : 'none';\n",
              "\n",
              "      async function convertToInteractive(key) {\n",
              "        const element = document.querySelector('#df-66f22363-d0c0-40a6-acaf-ebd2e596b432');\n",
              "        const dataTable =\n",
              "          await google.colab.kernel.invokeFunction('convertToInteractive',\n",
              "                                                    [key], {});\n",
              "        if (!dataTable) return;\n",
              "\n",
              "        const docLinkHtml = 'Like what you see? Visit the ' +\n",
              "          '<a target=\"_blank\" href=https://colab.research.google.com/notebooks/data_table.ipynb>data table notebook</a>'\n",
              "          + ' to learn more about interactive tables.';\n",
              "        element.innerHTML = '';\n",
              "        dataTable['output_type'] = 'display_data';\n",
              "        await google.colab.output.renderOutput(dataTable, element);\n",
              "        const docLink = document.createElement('div');\n",
              "        docLink.innerHTML = docLinkHtml;\n",
              "        element.appendChild(docLink);\n",
              "      }\n",
              "    </script>\n",
              "  </div>\n",
              "\n",
              "\n",
              "    <div id=\"df-34d6547b-861b-4614-a105-034d66840231\">\n",
              "      <button class=\"colab-df-quickchart\" onclick=\"quickchart('df-34d6547b-861b-4614-a105-034d66840231')\"\n",
              "                title=\"Suggest charts\"\n",
              "                style=\"display:none;\">\n",
              "\n",
              "<svg xmlns=\"http://www.w3.org/2000/svg\" height=\"24px\"viewBox=\"0 0 24 24\"\n",
              "     width=\"24px\">\n",
              "    <g>\n",
              "        <path d=\"M19 3H5c-1.1 0-2 .9-2 2v14c0 1.1.9 2 2 2h14c1.1 0 2-.9 2-2V5c0-1.1-.9-2-2-2zM9 17H7v-7h2v7zm4 0h-2V7h2v10zm4 0h-2v-4h2v4z\"/>\n",
              "    </g>\n",
              "</svg>\n",
              "      </button>\n",
              "\n",
              "<style>\n",
              "  .colab-df-quickchart {\n",
              "      --bg-color: #E8F0FE;\n",
              "      --fill-color: #1967D2;\n",
              "      --hover-bg-color: #E2EBFA;\n",
              "      --hover-fill-color: #174EA6;\n",
              "      --disabled-fill-color: #AAA;\n",
              "      --disabled-bg-color: #DDD;\n",
              "  }\n",
              "\n",
              "  [theme=dark] .colab-df-quickchart {\n",
              "      --bg-color: #3B4455;\n",
              "      --fill-color: #D2E3FC;\n",
              "      --hover-bg-color: #434B5C;\n",
              "      --hover-fill-color: #FFFFFF;\n",
              "      --disabled-bg-color: #3B4455;\n",
              "      --disabled-fill-color: #666;\n",
              "  }\n",
              "\n",
              "  .colab-df-quickchart {\n",
              "    background-color: var(--bg-color);\n",
              "    border: none;\n",
              "    border-radius: 50%;\n",
              "    cursor: pointer;\n",
              "    display: none;\n",
              "    fill: var(--fill-color);\n",
              "    height: 32px;\n",
              "    padding: 0;\n",
              "    width: 32px;\n",
              "  }\n",
              "\n",
              "  .colab-df-quickchart:hover {\n",
              "    background-color: var(--hover-bg-color);\n",
              "    box-shadow: 0 1px 2px rgba(60, 64, 67, 0.3), 0 1px 3px 1px rgba(60, 64, 67, 0.15);\n",
              "    fill: var(--button-hover-fill-color);\n",
              "  }\n",
              "\n",
              "  .colab-df-quickchart-complete:disabled,\n",
              "  .colab-df-quickchart-complete:disabled:hover {\n",
              "    background-color: var(--disabled-bg-color);\n",
              "    fill: var(--disabled-fill-color);\n",
              "    box-shadow: none;\n",
              "  }\n",
              "\n",
              "  .colab-df-spinner {\n",
              "    border: 2px solid var(--fill-color);\n",
              "    border-color: transparent;\n",
              "    border-bottom-color: var(--fill-color);\n",
              "    animation:\n",
              "      spin 1s steps(1) infinite;\n",
              "  }\n",
              "\n",
              "  @keyframes spin {\n",
              "    0% {\n",
              "      border-color: transparent;\n",
              "      border-bottom-color: var(--fill-color);\n",
              "      border-left-color: var(--fill-color);\n",
              "    }\n",
              "    20% {\n",
              "      border-color: transparent;\n",
              "      border-left-color: var(--fill-color);\n",
              "      border-top-color: var(--fill-color);\n",
              "    }\n",
              "    30% {\n",
              "      border-color: transparent;\n",
              "      border-left-color: var(--fill-color);\n",
              "      border-top-color: var(--fill-color);\n",
              "      border-right-color: var(--fill-color);\n",
              "    }\n",
              "    40% {\n",
              "      border-color: transparent;\n",
              "      border-right-color: var(--fill-color);\n",
              "      border-top-color: var(--fill-color);\n",
              "    }\n",
              "    60% {\n",
              "      border-color: transparent;\n",
              "      border-right-color: var(--fill-color);\n",
              "    }\n",
              "    80% {\n",
              "      border-color: transparent;\n",
              "      border-right-color: var(--fill-color);\n",
              "      border-bottom-color: var(--fill-color);\n",
              "    }\n",
              "    90% {\n",
              "      border-color: transparent;\n",
              "      border-bottom-color: var(--fill-color);\n",
              "    }\n",
              "  }\n",
              "</style>\n",
              "\n",
              "      <script>\n",
              "        async function quickchart(key) {\n",
              "          const quickchartButtonEl =\n",
              "            document.querySelector('#' + key + ' button');\n",
              "          quickchartButtonEl.disabled = true;  // To prevent multiple clicks.\n",
              "          quickchartButtonEl.classList.add('colab-df-spinner');\n",
              "          try {\n",
              "            const charts = await google.colab.kernel.invokeFunction(\n",
              "                'suggestCharts', [key], {});\n",
              "          } catch (error) {\n",
              "            console.error('Error during call to suggestCharts:', error);\n",
              "          }\n",
              "          quickchartButtonEl.classList.remove('colab-df-spinner');\n",
              "          quickchartButtonEl.classList.add('colab-df-quickchart-complete');\n",
              "        }\n",
              "        (() => {\n",
              "          let quickchartButtonEl =\n",
              "            document.querySelector('#df-34d6547b-861b-4614-a105-034d66840231 button');\n",
              "          quickchartButtonEl.style.display =\n",
              "            google.colab.kernel.accessAllowed ? 'block' : 'none';\n",
              "        })();\n",
              "      </script>\n",
              "    </div>\n",
              "    </div>\n",
              "  </div>\n"
            ],
            "application/vnd.google.colaboratory.intrinsic+json": {
              "type": "dataframe",
              "variable_name": "all_data",
              "summary": "{\n  \"name\": \"all_data\",\n  \"rows\": 87672,\n  \"fields\": [\n    {\n      \"column\": \"time\",\n      \"properties\": {\n        \"dtype\": \"date\",\n        \"min\": \"2015-01-01 00:00:00\",\n        \"max\": \"2024-12-31 23:00:00\",\n        \"num_unique_values\": 87672,\n        \"samples\": [\n          \"2015-07-31 01:00:00\",\n          \"2021-08-01 01:00:00\",\n          \"2018-01-22 13:00:00\"\n        ],\n        \"semantic_type\": \"\",\n        \"description\": \"\"\n      }\n    },\n    {\n      \"column\": \"local_time\",\n      \"properties\": {\n        \"dtype\": \"object\",\n        \"num_unique_values\": 87662,\n        \"samples\": [\n          \"2024-09-14 20:00\",\n          \"2018-05-13 00:00\",\n          \"2017-02-13 19:00\"\n        ],\n        \"semantic_type\": \"\",\n        \"description\": \"\"\n      }\n    },\n    {\n      \"column\": \"t2m\",\n      \"properties\": {\n        \"dtype\": \"number\",\n        \"std\": 5.749314101204307,\n        \"min\": -6.158,\n        \"max\": 33.218,\n        \"num_unique_values\": 23790,\n        \"samples\": [\n          17.415,\n          16.781,\n          -1.521\n        ],\n        \"semantic_type\": \"\",\n        \"description\": \"\"\n      }\n    },\n    {\n      \"column\": \"prectotland\",\n      \"properties\": {\n        \"dtype\": \"number\",\n        \"std\": 0.2863802580666004,\n        \"min\": 0.0,\n        \"max\": 5.192,\n        \"num_unique_values\": 2062,\n        \"samples\": [\n          0.936,\n          1.513,\n          0.651\n        ],\n        \"semantic_type\": \"\",\n        \"description\": \"\"\n      }\n    },\n    {\n      \"column\": \"precsnoland\",\n      \"properties\": {\n        \"dtype\": \"number\",\n        \"std\": 0.020793218860393356,\n        \"min\": 0.0,\n        \"max\": 3.056,\n        \"num_unique_values\": 205,\n        \"samples\": [\n          0.004,\n          0.001,\n          0.035\n        ],\n        \"semantic_type\": \"\",\n        \"description\": \"\"\n      }\n    },\n    {\n      \"column\": \"snomas\",\n      \"properties\": {\n        \"dtype\": \"number\",\n        \"std\": 0.3119132650796499,\n        \"min\": 0.0,\n        \"max\": 9.42,\n        \"num_unique_values\": 1084,\n        \"samples\": [\n          0.467,\n          0.213,\n          5.858\n        ],\n        \"semantic_type\": \"\",\n        \"description\": \"\"\n      }\n    },\n    {\n      \"column\": \"rhoa\",\n      \"properties\": {\n        \"dtype\": \"number\",\n        \"std\": 0.027888611255349655,\n        \"min\": 1.138,\n        \"max\": 1.321,\n        \"num_unique_values\": 184,\n        \"samples\": [\n          1.228,\n          1.286,\n          1.183\n        ],\n        \"semantic_type\": \"\",\n        \"description\": \"\"\n      }\n    },\n    {\n      \"column\": \"swgdn\",\n      \"properties\": {\n        \"dtype\": \"number\",\n        \"std\": 223.27135910779361,\n        \"min\": 0.0,\n        \"max\": 929.732,\n        \"num_unique_values\": 44487,\n        \"samples\": [\n          541.249,\n          112.888,\n          346.846\n        ],\n        \"semantic_type\": \"\",\n        \"description\": \"\"\n      }\n    },\n    {\n      \"column\": \"swtdn\",\n      \"properties\": {\n        \"dtype\": \"number\",\n        \"std\": 359.47193380696615,\n        \"min\": 0.0,\n        \"max\": 1159.157,\n        \"num_unique_values\": 37755,\n        \"samples\": [\n          362.914,\n          73.895,\n          631.618\n        ],\n        \"semantic_type\": \"\",\n        \"description\": \"\"\n      }\n    },\n    {\n      \"column\": \"cldtot\",\n      \"properties\": {\n        \"dtype\": \"number\",\n        \"std\": 0.35397568253794515,\n        \"min\": 0.0,\n        \"max\": 1.0,\n        \"num_unique_values\": 1001,\n        \"samples\": [\n          0.705,\n          0.584,\n          0.062\n        ],\n        \"semantic_type\": \"\",\n        \"description\": \"\"\n      }\n    },\n    {\n      \"column\": \"wind_speed\",\n      \"properties\": {\n        \"dtype\": \"number\",\n        \"std\": 2.3705066888844044,\n        \"min\": 1.751,\n        \"max\": 19.691,\n        \"num_unique_values\": 11792,\n        \"samples\": [\n          4.661,\n          12.967,\n          12.637\n        ],\n        \"semantic_type\": \"\",\n        \"description\": \"\"\n      }\n    },\n    {\n      \"column\": \"quarter\",\n      \"properties\": {\n        \"dtype\": \"number\",\n        \"std\": 1,\n        \"min\": 1,\n        \"max\": 4,\n        \"num_unique_values\": 4,\n        \"samples\": [\n          2,\n          4,\n          1\n        ],\n        \"semantic_type\": \"\",\n        \"description\": \"\"\n      }\n    },\n    {\n      \"column\": \"month\",\n      \"properties\": {\n        \"dtype\": \"number\",\n        \"std\": 3,\n        \"min\": 1,\n        \"max\": 12,\n        \"num_unique_values\": 12,\n        \"samples\": [\n          11,\n          10,\n          1\n        ],\n        \"semantic_type\": \"\",\n        \"description\": \"\"\n      }\n    },\n    {\n      \"column\": \"month_name\",\n      \"properties\": {\n        \"dtype\": \"category\",\n        \"num_unique_values\": 12,\n        \"samples\": [\n          \"November\",\n          \"October\",\n          \"January\"\n        ],\n        \"semantic_type\": \"\",\n        \"description\": \"\"\n      }\n    },\n    {\n      \"column\": \"day\",\n      \"properties\": {\n        \"dtype\": \"number\",\n        \"std\": 8,\n        \"min\": 1,\n        \"max\": 31,\n        \"num_unique_values\": 31,\n        \"samples\": [\n          28,\n          16,\n          24\n        ],\n        \"semantic_type\": \"\",\n        \"description\": \"\"\n      }\n    },\n    {\n      \"column\": \"hour\",\n      \"properties\": {\n        \"dtype\": \"number\",\n        \"std\": 6,\n        \"min\": 0,\n        \"max\": 23,\n        \"num_unique_values\": 24,\n        \"samples\": [\n          8,\n          16,\n          0\n        ],\n        \"semantic_type\": \"\",\n        \"description\": \"\"\n      }\n    },\n    {\n      \"column\": \"year\",\n      \"properties\": {\n        \"dtype\": \"int32\",\n        \"num_unique_values\": 10,\n        \"samples\": [\n          2023,\n          2016,\n          2020\n        ],\n        \"semantic_type\": \"\",\n        \"description\": \"\"\n      }\n    }\n  ]\n}"
            }
          },
          "metadata": {},
          "execution_count": 3
        }
      ]
    },
    {
      "cell_type": "code",
      "source": [
        "def split_data(X, y, train_ratio=0.8):\n",
        "    \"\"\"\n",
        "    Splits the input and output sequences into training and testing sets.\n",
        "\n",
        "    Parameters:\n",
        "        X (np.ndarray): Input sequences.\n",
        "        y (np.ndarray): Corresponding target values.\n",
        "        train_ratio (float): Fraction of data to be used for training.\n",
        "\n",
        "    Returns:\n",
        "        X_train, X_test, y_train, y_test: Split datasets.\n",
        "    \"\"\"\n",
        "    split_point = int(len(X) * train_ratio)\n",
        "    X_train, X_test = X[:split_point], X[split_point:]\n",
        "    y_train, y_test = y[:split_point], y[split_point:]\n",
        "    return X_train, X_test, y_train, y_test\n"
      ],
      "metadata": {
        "id": "480IN6hgpdmI"
      },
      "execution_count": null,
      "outputs": []
    },
    {
      "cell_type": "code",
      "source": [
        "import numpy as np\n",
        "\n",
        "def encode_time_features(df):\n",
        "    df = df.copy()\n",
        "\n",
        "    # Cyclical Encoding\n",
        "    df['hour_sin'] = np.sin(2 * np.pi * df['hour'] / 24)\n",
        "    df['hour_cos'] = np.cos(2 * np.pi * df['hour'] / 24)\n",
        "\n",
        "    df['month_sin'] = np.sin(2 * np.pi * df['month'] / 12)\n",
        "    df['month_cos'] = np.cos(2 * np.pi * df['month'] / 12)\n",
        "\n",
        "    df['day_sin'] = np.sin(2 * np.pi * df['day'] / 31)\n",
        "    df['day_cos'] = np.cos(2 * np.pi * df['day'] / 31)\n",
        "\n",
        "    df['quarter_sin'] = np.sin(2 * np.pi * df['quarter'] / 4)\n",
        "    df['quarter_cos'] = np.cos(2 * np.pi * df['quarter'] / 4)\n",
        "\n",
        "    # Drop original time-related categorical features\n",
        "    df.drop(columns=['hour', 'month', 'day', 'quarter', 'month_name', 'year'], errors='ignore', inplace=True)\n",
        "\n",
        "    return df"
      ],
      "metadata": {
        "id": "-B_X-XImpdiv"
      },
      "execution_count": null,
      "outputs": []
    },
    {
      "cell_type": "code",
      "source": [
        "from sklearn.preprocessing import MinMaxScaler\n",
        "import numpy as np\n",
        "import pandas as pd\n",
        "\n",
        "def prepare_multivariate_timeseries_data(\n",
        "    df, input_hours=24, forecast_horizon=2, target_col=\"swgdn\"\n",
        "):\n",
        "    df = df.copy()\n",
        "\n",
        "    drop_cols = ['swtdn', 'year', 'month_name', 'time', 'local_time']\n",
        "    df.drop(columns=[col for col in drop_cols if col in df.columns], inplace=True)\n",
        "\n",
        "    static_features = [col for col in df.columns if col != target_col]\n",
        "    feature_names = []\n",
        "\n",
        "    # Separate target and features\n",
        "    target_vals = df[[target_col]].values\n",
        "    feature_vals = df[static_features].values\n",
        "\n",
        "    # Scale separately\n",
        "    y_scaler = MinMaxScaler()\n",
        "    X_scaler = MinMaxScaler()\n",
        "\n",
        "    target_scaled = y_scaler.fit_transform(target_vals).flatten()\n",
        "    features_scaled = X_scaler.fit_transform(feature_vals)\n",
        "\n",
        "    X, y = [], []\n",
        "\n",
        "    for i in range(len(df) - input_hours - forecast_horizon + 1):\n",
        "        lag_seq = target_scaled[i : i + input_hours]\n",
        "\n",
        "        future_idx = i + input_hours + forecast_horizon - 1\n",
        "        static_feat = features_scaled[future_idx]\n",
        "\n",
        "        X.append(np.concatenate([lag_seq, static_feat]))\n",
        "        y.append(target_scaled[future_idx])  # predict target value\n",
        "\n",
        "    feature_names = [f\"{target_col}_lag_{i+1}\" for i in range(input_hours)] + static_features\n",
        "\n",
        "    return np.array(X), np.array(y), X_scaler, y_scaler, feature_names"
      ],
      "metadata": {
        "id": "Y-14JPlupdfr"
      },
      "execution_count": null,
      "outputs": []
    },
    {
      "cell_type": "code",
      "source": [
        "df = all_data.copy()\n",
        "\n",
        "df_encoded = encode_time_features(df)\n",
        "\n",
        "X_seq, y_seq, X_scaler, y_scaler, feature_names  = prepare_multivariate_timeseries_data(\n",
        "    df_encoded, input_hours=24, forecast_horizon=2\n",
        ")\n",
        "\n",
        "X_train, X_test, y_train, y_test = split_data(X_seq, y_seq)\n",
        "\n",
        "print(f\"Train shape: {X_train.shape}, {y_train.shape}\")\n",
        "print(f\"Test shape: {X_test.shape}, {y_test.shape}\")\n",
        "print(f\"Input features: {feature_names}\")\n"
      ],
      "metadata": {
        "colab": {
          "base_uri": "https://localhost:8080/"
        },
        "id": "Qtn4SpHlpdb_",
        "outputId": "e9ef689f-e3f9-43db-dce7-34f48653f0e2"
      },
      "execution_count": null,
      "outputs": [
        {
          "output_type": "stream",
          "name": "stdout",
          "text": [
            "Train shape: (70117, 39), (70117,)\n",
            "Test shape: (17530, 39), (17530,)\n",
            "Input features: ['swgdn_lag_1', 'swgdn_lag_2', 'swgdn_lag_3', 'swgdn_lag_4', 'swgdn_lag_5', 'swgdn_lag_6', 'swgdn_lag_7', 'swgdn_lag_8', 'swgdn_lag_9', 'swgdn_lag_10', 'swgdn_lag_11', 'swgdn_lag_12', 'swgdn_lag_13', 'swgdn_lag_14', 'swgdn_lag_15', 'swgdn_lag_16', 'swgdn_lag_17', 'swgdn_lag_18', 'swgdn_lag_19', 'swgdn_lag_20', 'swgdn_lag_21', 'swgdn_lag_22', 'swgdn_lag_23', 'swgdn_lag_24', 't2m', 'prectotland', 'precsnoland', 'snomas', 'rhoa', 'cldtot', 'wind_speed', 'hour_sin', 'hour_cos', 'month_sin', 'month_cos', 'day_sin', 'day_cos', 'quarter_sin', 'quarter_cos']\n"
          ]
        }
      ]
    },
    {
      "cell_type": "code",
      "source": [
        "from xgboost import XGBRegressor\n",
        "from sklearn.metrics import mean_absolute_error, r2_score, mean_squared_error\n",
        "import numpy as np\n",
        "\n",
        "# Define and train the model\n",
        "Best_Parameters = {'learning_rate': 0.1, 'max_depth': 6, 'n_estimators': 200}\n",
        "model = XGBRegressor(**Best_Parameters, random_state=42)\n",
        "model.fit(X_train, y_train)\n",
        "\n",
        "# Predict\n",
        "y_train_pred = model.predict(X_train)\n",
        "y_test_pred = model.predict(X_test)\n",
        "\n",
        "# Evaluation\n",
        "def evaluate(y_true, y_pred, label=''):\n",
        "    mae = mean_absolute_error(y_true, y_pred)\n",
        "    r2 = r2_score(y_true, y_pred)\n",
        "    rmse = np.sqrt(mean_squared_error(y_true, y_pred))\n",
        "    print(f\"{label} MAE: {mae:.4f}\")\n",
        "    print(f\"{label} R²: {r2:.4f}\")\n",
        "    print(f\"{label} RMSE: {rmse:.4f}\")\n",
        "    print(\"-\" * 30)\n",
        "\n",
        "evaluate(y_train, y_train_pred, label='Train')\n",
        "evaluate(y_test, y_test_pred, label='Test')\n"
      ],
      "metadata": {
        "colab": {
          "base_uri": "https://localhost:8080/"
        },
        "id": "OCQK6UfrpMdm",
        "outputId": "b220225a-b211-49a4-bbd9-25b99b0990e0"
      },
      "execution_count": null,
      "outputs": [
        {
          "output_type": "stream",
          "name": "stdout",
          "text": [
            "Train MAE: 0.0113\n",
            "Train R²: 0.9908\n",
            "Train RMSE: 0.0231\n",
            "------------------------------\n",
            "Test MAE: 0.0152\n",
            "Test R²: 0.9816\n",
            "Test RMSE: 0.0324\n",
            "------------------------------\n"
          ]
        }
      ]
    },
    {
      "cell_type": "code",
      "source": [
        "import pandas as pd\n",
        "import matplotlib.pyplot as plt\n",
        "\n",
        "# Get feature importances\n",
        "importances = model.feature_importances_\n",
        "features = X_train.columns if hasattr(X_train, 'columns') else feature_names  # fallback to input_features list\n",
        "feature_importance_df = pd.DataFrame({\n",
        "    'feature': features,\n",
        "    'importance': importances\n",
        "}).sort_values(by='importance', ascending=False)\n",
        "\n",
        "# Plot top 20 features\n",
        "top_N = 20\n",
        "top_features = feature_importance_df.head(top_N)['feature'].tolist()\n",
        "\n",
        "plt.figure(figsize=(10, 6))\n",
        "plt.barh(top_features[::-1], feature_importance_df.head(top_N)['importance'][::-1])\n",
        "plt.xlabel(\"Feature Importance\")\n",
        "plt.title(f\"Top {top_N} Important Features\")\n",
        "plt.tight_layout()\n",
        "plt.show()\n"
      ],
      "metadata": {
        "colab": {
          "base_uri": "https://localhost:8080/",
          "height": 607
        },
        "id": "pfWTCrlSr5Q8",
        "outputId": "77aa5f80-aaa1-4fbd-d8bf-911bb4ce0ee0"
      },
      "execution_count": null,
      "outputs": [
        {
          "output_type": "display_data",
          "data": {
            "text/plain": [
              "<Figure size 1000x600 with 1 Axes>"
            ],
            "image/png": "[encoded data removed]"
          },
          "metadata": {}
        }
      ]
    },
    {
      "cell_type": "code",
      "source": [
        "from sklearn.preprocessing import MinMaxScaler  # or StandardScaler\n",
        "from tqdm import tqdm\n",
        "from sklearn.metrics import mean_absolute_error\n",
        "import numpy as np\n",
        "import matplotlib.pyplot as plt\n",
        "\n",
        "top_ns = list(range(5, len(feature_importance_df) + 1, 3))\n",
        "errors = []\n",
        "\n",
        "for N in tqdm(top_ns):\n",
        "    # Select top N features\n",
        "    top_features_N = feature_importance_df.head(N)['feature'].tolist()\n",
        "\n",
        "    # Subset raw X\n",
        "    X_train_N_raw = pd.DataFrame(X_train, columns=features)[top_features_N]\n",
        "    X_test_N_raw = pd.DataFrame(X_test, columns=features)[top_features_N]\n",
        "\n",
        "    # Scale X subset\n",
        "    X_scaler_N = MinMaxScaler()\n",
        "    X_train_N_scaled = X_scaler_N.fit_transform(X_train_N_raw)\n",
        "    X_test_N_scaled = X_scaler_N.transform(X_test_N_raw)\n",
        "\n",
        "    # Fit model\n",
        "    model_N = XGBRegressor(**Best_Parameters, random_state=42)\n",
        "    model_N.fit(X_train_N_scaled, y_train)\n",
        "\n",
        "    # Predict and inverse-scale y\n",
        "    y_test_pred_scaled = model_N.predict(X_test_N_scaled).reshape(-1, 1)\n",
        "    y_test_pred_orig = y_scaler.inverse_transform(y_test_pred_scaled)\n",
        "    y_test_orig = y_scaler.inverse_transform(y_test.reshape(-1, 1))\n",
        "\n",
        "    # Compute MAE in original scale\n",
        "    mae = mean_absolute_error(y_test_orig, y_test_pred_orig)\n",
        "    errors.append(mae)\n"
      ],
      "metadata": {
        "colab": {
          "base_uri": "https://localhost:8080/"
        },
        "id": "YnffbfMPs17t",
        "outputId": "fc1f036f-9405-48c2-d400-d6624ea238e9"
      },
      "execution_count": null,
      "outputs": [
        {
          "output_type": "stream",
          "name": "stderr",
          "text": [
            "100%|██████████| 12/12 [00:31<00:00,  2.62s/it]\n"
          ]
        }
      ]
    },
    {
      "cell_type": "code",
      "source": [
        "plt.figure(figsize=(10, 6))\n",
        "plt.plot(top_ns, errors, marker='o')\n",
        "plt.xlabel('Number of Top Features (N)')\n",
        "plt.ylabel('MAE (Original Scale)')\n",
        "plt.title('Elbow Method for Optimal Number of Features')\n",
        "plt.grid(True)\n",
        "plt.show()\n"
      ],
      "metadata": {
        "colab": {
          "base_uri": "https://localhost:8080/",
          "height": 564
        },
        "id": "2TDuuV0Qtf01",
        "outputId": "eac3a2ca-a7a3-4dfd-e745-d58ce6385f77"
      },
      "execution_count": null,
      "outputs": [
        {
          "output_type": "display_data",
          "data": {
            "text/plain": [
              "<Figure size 1000x600 with 1 Axes>"
            ],
            "image/png": "[encoded data removed]"
          },
          "metadata": {}
        }
      ]
    },
    {
      "cell_type": "code",
      "source": [
        "optimal_N = top_ns[np.argmin(errors)]\n",
        "print(f\"Optimal N = {optimal_N} with lowest MAE = {min(errors):.4f}\")\n"
      ],
      "metadata": {
        "colab": {
          "base_uri": "https://localhost:8080/"
        },
        "id": "_ZSiAKCIt6kn",
        "outputId": "2e06a694-0439-4323-aaf4-a04d7064894e"
      },
      "execution_count": null,
      "outputs": [
        {
          "output_type": "stream",
          "name": "stdout",
          "text": [
            "Optimal N = 32 with lowest MAE = 13.8513\n"
          ]
        }
      ]
    },
    {
      "cell_type": "code",
      "source": [
        "top_N = 32\n",
        "top_features = feature_importance_df.head(top_N)['feature'].tolist()\n",
        "\n",
        "# Subset data with top N features\n",
        "X_train_top = pd.DataFrame(X_train, columns=features)[top_features]\n",
        "X_test_top = pd.DataFrame(X_test, columns=features)[top_features]\n",
        "\n",
        "# Retrain model on top N features\n",
        "model_top = XGBRegressor(**Best_Parameters, random_state=42)\n",
        "model_top.fit(X_train_top, y_train)\n",
        "\n",
        "# Predict again\n",
        "y_train_pred_top = model_top.predict(X_train_top)\n",
        "y_test_pred_top = model_top.predict(X_test_top)\n",
        "\n",
        "# Evaluation\n",
        "evaluate(y_train, y_train_pred_top, label=f'Train (Top {top_N})')\n",
        "evaluate(y_test, y_test_pred_top, label=f'Test (Top {top_N})')\n"
      ],
      "metadata": {
        "colab": {
          "base_uri": "https://localhost:8080/"
        },
        "id": "zLzH6BX4vtWV",
        "outputId": "1fe84dbc-39ea-4c04-db7a-f41cab7af8c5"
      },
      "execution_count": null,
      "outputs": [
        {
          "output_type": "stream",
          "name": "stdout",
          "text": [
            "Train (Top 32) MAE: 0.0116\n",
            "Train (Top 32) R²: 0.9901\n",
            "Train (Top 32) RMSE: 0.0239\n",
            "------------------------------\n",
            "Test (Top 32) MAE: 0.0149\n",
            "Test (Top 32) R²: 0.9822\n",
            "Test (Top 32) RMSE: 0.0319\n",
            "------------------------------\n"
          ]
        }
      ]
    },
    {
      "cell_type": "markdown",
      "source": [
        "## PCA"
      ],
      "metadata": {
        "id": "WB1zMY2_xUJH"
      }
    },
    {
      "cell_type": "code",
      "source": [
        "df = all_data.copy()\n",
        "df = df.dropna()\n",
        "\n",
        "df_encoded = encode_time_features(df)\n",
        "\n",
        "X_seq, y_seq, X_scaler, y_scaler, feature_names  = prepare_multivariate_timeseries_data(\n",
        "    df_encoded, input_hours=24, forecast_horizon=2\n",
        ")\n",
        "\n",
        "X_train, X_test, y_train, y_test = split_data(X_seq, y_seq)\n",
        "\n",
        "print(f\"Train shape: {X_train.shape}, {y_train.shape}\")\n",
        "print(f\"Test shape: {X_test.shape}, {y_test.shape}\")\n",
        "print(f\"Input features: {feature_names}\")\n"
      ],
      "metadata": {
        "colab": {
          "base_uri": "https://localhost:8080/"
        },
        "id": "DJpptTjzv2P7",
        "outputId": "c3cdcf5a-7b33-4c9b-c27b-c1032d51f68e"
      },
      "execution_count": null,
      "outputs": [
        {
          "output_type": "stream",
          "name": "stdout",
          "text": [
            "Train shape: (70116, 39), (70116,)\n",
            "Test shape: (17530, 39), (17530,)\n",
            "Input features: ['swgdn_lag_1', 'swgdn_lag_2', 'swgdn_lag_3', 'swgdn_lag_4', 'swgdn_lag_5', 'swgdn_lag_6', 'swgdn_lag_7', 'swgdn_lag_8', 'swgdn_lag_9', 'swgdn_lag_10', 'swgdn_lag_11', 'swgdn_lag_12', 'swgdn_lag_13', 'swgdn_lag_14', 'swgdn_lag_15', 'swgdn_lag_16', 'swgdn_lag_17', 'swgdn_lag_18', 'swgdn_lag_19', 'swgdn_lag_20', 'swgdn_lag_21', 'swgdn_lag_22', 'swgdn_lag_23', 'swgdn_lag_24', 't2m', 'prectotland', 'precsnoland', 'snomas', 'rhoa', 'cldtot', 'wind_speed', 'hour_sin', 'hour_cos', 'month_sin', 'month_cos', 'day_sin', 'day_cos', 'quarter_sin', 'quarter_cos']\n"
          ]
        }
      ]
    },
    {
      "cell_type": "code",
      "source": [
        "from sklearn.preprocessing import StandardScaler\n",
        "\n",
        "X_scaler_pca = StandardScaler()\n",
        "X_train_scaled = X_scaler_pca.fit_transform(X_train)\n",
        "X_test_scaled = X_scaler_pca.transform(X_test)\n"
      ],
      "metadata": {
        "id": "e8YolblKxXGO"
      },
      "execution_count": null,
      "outputs": []
    },
    {
      "cell_type": "code",
      "source": [
        "from sklearn.decomposition import PCA\n",
        "import numpy as np\n",
        "import matplotlib.pyplot as plt\n",
        "\n",
        "pca = PCA()\n",
        "pca.fit(X_train_scaled)\n",
        "\n",
        "explained_variance = np.cumsum(pca.explained_variance_ratio_)\n",
        "\n",
        "vad = 0.98\n",
        "\n",
        "plt.figure(figsize=(8, 5))\n",
        "plt.plot(range(1, len(explained_variance)+1), explained_variance, marker='o')\n",
        "plt.axhline(y=vad, color='r', linestyle='--', label=f'{vad*100}% variance')\n",
        "plt.xlabel('Number of PCA Components')\n",
        "plt.ylabel('Cumulative Explained Variance')\n",
        "plt.title('PCA Explained Variance')\n",
        "plt.grid(True)\n",
        "plt.legend()\n",
        "plt.show()\n",
        "\n",
        "# Pick number of components for 95% variance\n",
        "n_components = np.argmax(explained_variance >= vad) + 1\n",
        "print(f\"Selected {n_components} PCA components (≥{vad*100}% variance)\")\n"
      ],
      "metadata": {
        "colab": {
          "base_uri": "https://localhost:8080/",
          "height": 504
        },
        "id": "iDXfkRBdxg7m",
        "outputId": "69861ffa-21bc-420c-9fa6-12021552d4a0"
      },
      "execution_count": null,
      "outputs": [
        {
          "output_type": "display_data",
          "data": {
            "text/plain": [
              "<Figure size 800x500 with 1 Axes>"
            ],
            "image/png": "[encoded data removed]"
          },
          "metadata": {}
        },
        {
          "output_type": "stream",
          "name": "stdout",
          "text": [
            "Selected 17 PCA components (≥98.0% variance)\n"
          ]
        }
      ]
    },
    {
      "cell_type": "code",
      "source": [
        "pca_final = PCA(n_components=n_components)\n",
        "X_train_pca = pca_final.fit_transform(X_train_scaled)\n",
        "X_test_pca = pca_final.transform(X_test_scaled)\n"
      ],
      "metadata": {
        "id": "d70pAiZixlt1"
      },
      "execution_count": null,
      "outputs": []
    },
    {
      "cell_type": "code",
      "source": [
        "X_train_pca.shape"
      ],
      "metadata": {
        "colab": {
          "base_uri": "https://localhost:8080/"
        },
        "id": "jobsLQLdyLJh",
        "outputId": "4282afff-5443-49c7-9f54-62bc03b7a0c8"
      },
      "execution_count": null,
      "outputs": [
        {
          "output_type": "execute_result",
          "data": {
            "text/plain": [
              "(70116, 17)"
            ]
          },
          "metadata": {},
          "execution_count": 52
        }
      ]
    },
    {
      "cell_type": "code",
      "source": [
        "from xgboost import XGBRegressor\n",
        "from sklearn.metrics import mean_absolute_error, r2_score\n",
        "\n",
        "model_pca = XGBRegressor(**Best_Parameters, random_state=42)\n",
        "model_pca.fit(X_train_pca, y_train)\n",
        "\n",
        "# Predict and inverse-transform\n",
        "y_test_pred_scaled = model_pca.predict(X_test_pca).reshape(-1, 1)\n",
        "y_test_pred_orig = y_scaler.inverse_transform(y_test_pred_scaled)\n",
        "y_test_orig = y_scaler.inverse_transform(y_test.reshape(-1, 1))\n",
        "\n",
        "# Evaluate\n",
        "mae = mean_absolute_error(y_test_orig, y_test_pred_orig)\n",
        "r2 = r2_score(y_test_orig, y_test_pred_orig)\n",
        "\n",
        "print(f\"PCA-Based XGBoost Performance:\")\n",
        "print(f\"MAE: {mae:.4f}\")\n",
        "print(f\"R²: {r2:.4f}\")\n"
      ],
      "metadata": {
        "colab": {
          "base_uri": "https://localhost:8080/"
        },
        "id": "nxpaM2SUx9ft",
        "outputId": "b0a9d06c-b898-4aaa-a374-3fdfe63ca1d1"
      },
      "execution_count": null,
      "outputs": [
        {
          "output_type": "stream",
          "name": "stdout",
          "text": [
            "PCA-Based XGBoost Performance:\n",
            "MAE: 21.9560\n",
            "R²: 0.9660\n"
          ]
        }
      ]
    },
    {
      "cell_type": "code",
      "source": [
        "# PCA is not good here"
      ],
      "metadata": {
        "id": "N0C-AcCuzH5u"
      },
      "execution_count": null,
      "outputs": []
    },
    {
      "cell_type": "code",
      "source": [],
      "metadata": {
        "id": "JJhfnD2I2WXb"
      },
      "execution_count": null,
      "outputs": []
    }
  ]
}